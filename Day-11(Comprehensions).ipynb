{
 "cells": [
  {
   "cell_type": "markdown",
   "metadata": {},
   "source": [
    "# Today Agenda\n",
    "\n",
    "\n",
    "- Comprehensions\n",
    "- Iterators and Generators\n",
    "- Functional Programming"
   ]
  },
  {
   "cell_type": "markdown",
   "metadata": {},
   "source": [
    "# Comprehension\n",
    "\n",
    "- It is a process of creating new sequence from existing sequence\n",
    "- Less memory\n",
    "- Less Code\n",
    "- Easy to understand\n",
    "\n",
    "\n",
    "### Types of Comprehensions\n",
    "\n",
    "- List Comprehension\n",
    "- Dictionary Comprehension\n",
    "- Set comprehension\n",
    "- Generator Comprehension"
   ]
  },
  {
   "cell_type": "markdown",
   "metadata": {},
   "source": [
    "## List Comprehension"
   ]
  },
  {
   "cell_type": "code",
   "execution_count": 2,
   "metadata": {},
   "outputs": [
    {
     "name": "stdout",
     "output_type": "stream",
     "text": [
      "[8, 36, 26, 12, 0, 2, 4, 6, 6]\n"
     ]
    }
   ],
   "source": [
    "# normal list\n",
    "\n",
    "mylist=[9,8,36,29,26,39,12,0,2,4,6,6,7]\n",
    "        # 9%2==0\n",
    "        # 8%2==0\n",
    "newlist=[]\n",
    "for i in mylist:\n",
    "    if i%2==0:\n",
    "        newlist.append(i)        \n",
    "print(newlist)    \n",
    "        \n",
    "    \n",
    "    \n",
    "\n"
   ]
  },
  {
   "cell_type": "code",
   "execution_count": 73,
   "metadata": {},
   "outputs": [
    {
     "name": "stdout",
     "output_type": "stream",
     "text": [
      "[8, 36, 26, 12, 0, 2, 4, 6, 6]\n"
     ]
    }
   ],
   "source": [
    "# List comprehension\n",
    "\n",
    "mylist=[9,8,36,29,26,39,12,0,2,4,6,6,7]\n",
    "newlist=[i for i in mylist if i%2==0]\n",
    "# syn[o/p loop /cond ]\n",
    "print(newlist)\n",
    "\n",
    "\n"
   ]
  },
  {
   "cell_type": "code",
   "execution_count": null,
   "metadata": {},
   "outputs": [],
   "source": [
    "#[9,Even,even,29,even,39,even,even,even,even,even,even,7]"
   ]
  },
  {
   "cell_type": "code",
   "execution_count": 11,
   "metadata": {},
   "outputs": [
    {
     "name": "stdout",
     "output_type": "stream",
     "text": [
      "[9, 'Even', 'Even', 29, 'Even', 39, 'Even', 'Even', 'Even', 'Even', 'Even', 'Even', 7]\n"
     ]
    }
   ],
   "source": [
    "mylist=[9,8,36,29,26,39,12,0,2,4,6,6,7]\n",
    "newlist=[i if i%2!=0 else \"Even\" for i in mylist]\n",
    "# syn[o/p loop /cond ]\n",
    "print(newlist)"
   ]
  },
  {
   "cell_type": "code",
   "execution_count": 12,
   "metadata": {},
   "outputs": [
    {
     "ename": "SyntaxError",
     "evalue": "invalid syntax (<ipython-input-12-a6f77ab8b5c5>, line 2)",
     "output_type": "error",
     "traceback": [
      "\u001b[1;36m  File \u001b[1;32m\"<ipython-input-12-a6f77ab8b5c5>\"\u001b[1;36m, line \u001b[1;32m2\u001b[0m\n\u001b[1;33m    newlist=[i for i in mylist if i%2!=0 else \"Even\"]\u001b[0m\n\u001b[1;37m                                            ^\u001b[0m\n\u001b[1;31mSyntaxError\u001b[0m\u001b[1;31m:\u001b[0m invalid syntax\n"
     ]
    }
   ],
   "source": [
    "mylist=[9,8,36,29,26,39,12,0,2,4,6,6,7]\n",
    "newlist=[i for i in mylist if i%2!=0 else \"Even\"]\n",
    "# syn[o/p loop /cond ]\n",
    "print(newlist)"
   ]
  },
  {
   "cell_type": "code",
   "execution_count": null,
   "metadata": {},
   "outputs": [],
   "source": [
    "# o/p ['odd', 'Even', 'Even', 'odd', 'Even', 'odd, 'Even', 'Even', 'Even', 'Even', 'Even', 'Even', 7]"
   ]
  },
  {
   "cell_type": "code",
   "execution_count": 14,
   "metadata": {},
   "outputs": [
    {
     "name": "stdout",
     "output_type": "stream",
     "text": [
      "['odd', 'Even', 'Even', 'odd', 'Even', 'odd', 'Even', 'Even', 'Even', 'Even', 'Even', 'Even', 'odd']\n"
     ]
    }
   ],
   "source": [
    "newlist=[\"Even\"  if i%2==0  else 'odd' for  i  in mylist]\n",
    "print(newlist)"
   ]
  },
  {
   "cell_type": "code",
   "execution_count": 16,
   "metadata": {},
   "outputs": [
    {
     "name": "stdout",
     "output_type": "stream",
     "text": [
      "1 2 3 4 5 6 7 8 9 10 "
     ]
    }
   ],
   "source": [
    "# normal list\n",
    "for i in range(1,11):\n",
    "    print(i,end=\" \")"
   ]
  },
  {
   "cell_type": "code",
   "execution_count": 17,
   "metadata": {},
   "outputs": [
    {
     "name": "stdout",
     "output_type": "stream",
     "text": [
      "[1, 2, 3, 4, 5, 6, 7, 8, 9, 10]\n"
     ]
    }
   ],
   "source": [
    "a=[i  for i in range(1,11)]\n",
    "\n",
    "print(a)"
   ]
  },
  {
   "cell_type": "code",
   "execution_count": null,
   "metadata": {},
   "outputs": [],
   "source": [
    "# o/p  [ 1,4, 9,16,25,36,49,64,81,100]    ** "
   ]
  },
  {
   "cell_type": "code",
   "execution_count": 19,
   "metadata": {},
   "outputs": [
    {
     "name": "stdout",
     "output_type": "stream",
     "text": [
      "[1, 4, 27, 256, 3125, 46656, 823543, 16777216, 387420489, 10000000000]\n"
     ]
    }
   ],
   "source": [
    "A =[i**i for i in range(1, 11) ]\n",
    "print(A)"
   ]
  },
  {
   "cell_type": "code",
   "execution_count": 20,
   "metadata": {},
   "outputs": [
    {
     "name": "stdout",
     "output_type": "stream",
     "text": [
      "[1, 4, 9, 16, 25, 36, 49, 64, 81, 100]\n"
     ]
    }
   ],
   "source": [
    "A =[i**2 for i in range(1, 11) ]\n",
    "print(A)"
   ]
  },
  {
   "cell_type": "code",
   "execution_count": 25,
   "metadata": {},
   "outputs": [
    {
     "name": "stdout",
     "output_type": "stream",
     "text": [
      "['Indu', 'Priya', 'python', 'developer', 'APSSDC', 'Vemu', 'colg', 'Siddu', 'Python', 'workshop']\n"
     ]
    }
   ],
   "source": [
    "# normal list\n",
    "mystr=[\"Indu Priya python developer\" ,\"APSSDC\",\"Vemu colg\" ,\"Siddu\",\"Python\",\"workshop\"]\n",
    "mystr1=[]\n",
    "for i in mystr:\n",
    "    for j in i.split():\n",
    "        mystr1.append(j)\n",
    "    \n",
    "print(mystr1)\n",
    "    "
   ]
  },
  {
   "cell_type": "code",
   "execution_count": 29,
   "metadata": {},
   "outputs": [
    {
     "name": "stdout",
     "output_type": "stream",
     "text": [
      "['Indu', 'Priya', 'python', 'developer', 'APSSDC', 'Vemu', 'colg', 'Siddu', 'Python', 'workshop']\n"
     ]
    }
   ],
   "source": [
    "# list comprehension\n",
    "\n",
    "A=[j for i  in mystr for j in i.split()]\n",
    "\n",
    "\n",
    "print(A)"
   ]
  },
  {
   "cell_type": "code",
   "execution_count": 30,
   "metadata": {},
   "outputs": [
    {
     "name": "stdout",
     "output_type": "stream",
     "text": [
      "1\n",
      "2\n"
     ]
    }
   ],
   "source": [
    "for i in range(1,3):\n",
    "    print(i)"
   ]
  },
  {
   "cell_type": "code",
   "execution_count": 32,
   "metadata": {
    "scrolled": true
   },
   "outputs": [
    {
     "name": "stdout",
     "output_type": "stream",
     "text": [
      "1\n",
      "2\n"
     ]
    }
   ],
   "source": [
    "for j in range(1,3):\n",
    "    print(j)"
   ]
  },
  {
   "cell_type": "code",
   "execution_count": null,
   "metadata": {},
   "outputs": [],
   "source": [
    "i       j\n",
    "\n",
    "1       1         i+j   --> 2      \n",
    "1       2               ----> 3\n",
    "2       1               ----->3\n",
    "2       2               ----->4"
   ]
  },
  {
   "cell_type": "code",
   "execution_count": 35,
   "metadata": {},
   "outputs": [
    {
     "name": "stdout",
     "output_type": "stream",
     "text": [
      "[2, 3, 4, 5, 6, 7, 8, 9, 10, 11, 3, 4, 5, 6, 7, 8, 9, 10, 11, 12, 4, 5, 6, 7, 8, 9, 10, 11, 12, 13, 5, 6, 7, 8, 9, 10, 11, 12, 13, 14, 6, 7, 8, 9, 10, 11, 12, 13, 14, 15, 7, 8, 9, 10, 11, 12, 13, 14, 15, 16, 8, 9, 10, 11, 12, 13, 14, 15, 16, 17, 9, 10, 11, 12, 13, 14, 15, 16, 17, 18, 10, 11, 12, 13, 14, 15, 16, 17, 18, 19, 11, 12, 13, 14, 15, 16, 17, 18, 19, 20]"
     ]
    }
   ],
   "source": [
    "z=[i+j   for i in range(1,11) for j in range(1,11)]\n",
    "print(z,end=\"\")"
   ]
  },
  {
   "cell_type": "code",
   "execution_count": 36,
   "metadata": {},
   "outputs": [
    {
     "name": "stdout",
     "output_type": "stream",
     "text": [
      "[[2, 3, 4, 5, 6, 7, 8, 9, 10, 11], [3, 4, 5, 6, 7, 8, 9, 10, 11, 12], [4, 5, 6, 7, 8, 9, 10, 11, 12, 13], [5, 6, 7, 8, 9, 10, 11, 12, 13, 14], [6, 7, 8, 9, 10, 11, 12, 13, 14, 15], [7, 8, 9, 10, 11, 12, 13, 14, 15, 16], [8, 9, 10, 11, 12, 13, 14, 15, 16, 17], [9, 10, 11, 12, 13, 14, 15, 16, 17, 18], [10, 11, 12, 13, 14, 15, 16, 17, 18, 19], [11, 12, 13, 14, 15, 16, 17, 18, 19, 20]]"
     ]
    }
   ],
   "source": [
    "z1=[[i+j   for i in range(1,11)] for j in range(1,11)]\n",
    "print(z1,end=\"\")"
   ]
  },
  {
   "cell_type": "code",
   "execution_count": null,
   "metadata": {},
   "outputs": [],
   "source": []
  },
  {
   "cell_type": "markdown",
   "metadata": {},
   "source": [
    "## Dictionary Comprehension\n",
    "\n",
    "- {key : value}"
   ]
  },
  {
   "cell_type": "code",
   "execution_count": null,
   "metadata": {},
   "outputs": [],
   "source": []
  },
  {
   "cell_type": "code",
   "execution_count": 45,
   "metadata": {},
   "outputs": [
    {
     "name": "stdout",
     "output_type": "stream",
     "text": [
      "{1, 2, 3, 4, 5, 6, 7, 8, 9, 10}\n"
     ]
    }
   ],
   "source": [
    "mydic={i for i in range(1,11)}\n",
    "print(mydic)"
   ]
  },
  {
   "cell_type": "code",
   "execution_count": 46,
   "metadata": {},
   "outputs": [
    {
     "name": "stdout",
     "output_type": "stream",
     "text": [
      "<class 'set'>\n"
     ]
    }
   ],
   "source": [
    "print(type(mydic))"
   ]
  },
  {
   "cell_type": "markdown",
   "metadata": {},
   "source": [
    "- If we didnt gave key:value format it takes the givean format as a \"set\" thats why in dictionary we gave only dictionary format i.e.., key : value"
   ]
  },
  {
   "cell_type": "markdown",
   "metadata": {},
   "source": [
    "mydict={i:i  for i in range(1,11)}\n",
    "mydict"
   ]
  },
  {
   "cell_type": "code",
   "execution_count": 43,
   "metadata": {},
   "outputs": [
    {
     "name": "stdout",
     "output_type": "stream",
     "text": [
      "<class 'dict'>\n"
     ]
    }
   ],
   "source": [
    "print(type(mydict))"
   ]
  },
  {
   "cell_type": "code",
   "execution_count": 44,
   "metadata": {},
   "outputs": [
    {
     "data": {
      "text/plain": [
       "{1: 1, 2: 4, 3: 9, 4: 16, 5: 25, 6: 36, 7: 49, 8: 64, 9: 81, 10: 100}"
      ]
     },
     "execution_count": 44,
     "metadata": {},
     "output_type": "execute_result"
    }
   ],
   "source": [
    "mydict={i:i**2  for i in range(1,11)}\n",
    "mydict"
   ]
  },
  {
   "cell_type": "code",
   "execution_count": 54,
   "metadata": {},
   "outputs": [
    {
     "name": "stdout",
     "output_type": "stream",
     "text": [
      "{'492': 'sandeep', '4A5': 'pradeep', '4B4': 'Thaseem', '438': 'pushpak', '497': 'madhavi', '4A2': 'preethi'}\n",
      "<class 'dict'>\n"
     ]
    }
   ],
   "source": [
    "rollno=[\"492\",\"4A5\",\"4B4\",\"438\",\"497\",\"4A2\"]\n",
    "names=[\"sandeep\",\"pradeep\",\"Thaseem\",\"pushpak\",\"madhavi\",\"preethi\"]\n",
    "\n",
    "dictionary={}\n",
    "for(key,value) in zip(rollno,names):\n",
    "    dictionary[key]=value\n",
    "    \n",
    "print(dictionary)\n",
    "print(type(dictionary))"
   ]
  },
  {
   "cell_type": "code",
   "execution_count": 53,
   "metadata": {},
   "outputs": [
    {
     "data": {
      "text/plain": [
       "{'492': 'sandeep',\n",
       " '4A5': 'pradeep',\n",
       " '4B4': 'Thaseem',\n",
       " '438': 'pushpak',\n",
       " '497': 'madhavi',\n",
       " '4A2': 'preethi'}"
      ]
     },
     "execution_count": 53,
     "metadata": {},
     "output_type": "execute_result"
    }
   ],
   "source": [
    "dictionary"
   ]
  },
  {
   "cell_type": "code",
   "execution_count": 56,
   "metadata": {},
   "outputs": [
    {
     "name": "stdout",
     "output_type": "stream",
     "text": [
      "{1: 9, 2: 8, 3: 7, 4: 6, 5: 5, 6: 4, 7: 3, 8: 2, 9: 1}\n"
     ]
    }
   ],
   "source": [
    "num1=[1,2,3,4,5,6,7,8,9]\n",
    "num2=[9,8,7,6,5,4,3,2,1]\n",
    "dictionary1={}\n",
    "for(key, value) in zip(num1,num2):\n",
    "    dictionary1[key]=value\n",
    "    \n",
    "print(dictionary1)\n",
    "\n",
    "    \n"
   ]
  },
  {
   "cell_type": "code",
   "execution_count": 58,
   "metadata": {},
   "outputs": [
    {
     "data": {
      "text/plain": [
       "[{1: 9, 2: 8, 3: 7, 4: 6, 5: 5, 6: 4, 7: 3, 8: 2, 9: 1},\n",
       " {1: 9, 2: 8, 3: 7, 4: 6, 5: 5, 6: 4, 7: 3, 8: 2, 9: 1},\n",
       " {1: 9, 2: 8, 3: 7, 4: 6, 5: 5, 6: 4, 7: 3, 8: 2, 9: 1},\n",
       " {1: 9, 2: 8, 3: 7, 4: 6, 5: 5, 6: 4, 7: 3, 8: 2, 9: 1},\n",
       " {1: 9, 2: 8, 3: 7, 4: 6, 5: 5, 6: 4, 7: 3, 8: 2, 9: 1},\n",
       " {1: 9, 2: 8, 3: 7, 4: 6, 5: 5, 6: 4, 7: 3, 8: 2, 9: 1},\n",
       " {1: 9, 2: 8, 3: 7, 4: 6, 5: 5, 6: 4, 7: 3, 8: 2, 9: 1},\n",
       " {1: 9, 2: 8, 3: 7, 4: 6, 5: 5, 6: 4, 7: 3, 8: 2, 9: 1},\n",
       " {1: 9, 2: 8, 3: 7, 4: 6, 5: 5, 6: 4, 7: 3, 8: 2, 9: 1}]"
      ]
     },
     "execution_count": 58,
     "metadata": {},
     "output_type": "execute_result"
    }
   ],
   "source": [
    "B=[dictionary1 for(key,value) in zip(num1,num2)]\n",
    "B"
   ]
  },
  {
   "cell_type": "code",
   "execution_count": 72,
   "metadata": {},
   "outputs": [
    {
     "name": "stdout",
     "output_type": "stream",
     "text": [
      "{1: 9, 2: 8, 3: 7, 4: 6, 5: 5, 6: 4, 7: 3, 8: 2, 9: 1}\n"
     ]
    }
   ],
   "source": [
    "Num1=[1, 2,3,4,5,6,7,8,9]\n",
    "Num2=[9, 8,7,6,5,4,3,2,1]\n",
    "Dictionary1={}\n",
    "Dictionary1[key]= value\n",
    "for(key, value) in zip (num1, num2):\n",
    "       Dictionary1[key]=value\n",
    "print(dictionary1) "
   ]
  },
  {
   "cell_type": "markdown",
   "metadata": {},
   "source": [
    "## Set Comprehension"
   ]
  },
  {
   "cell_type": "code",
   "execution_count": 61,
   "metadata": {},
   "outputs": [
    {
     "data": {
      "text/plain": [
       "{1, 4, 9, 16, 25, 36, 49, 64, 81, 100}"
      ]
     },
     "execution_count": 61,
     "metadata": {},
     "output_type": "execute_result"
    }
   ],
   "source": [
    "myset={i**2  for i in range(1,11)}\n",
    "myset"
   ]
  },
  {
   "cell_type": "code",
   "execution_count": 62,
   "metadata": {},
   "outputs": [
    {
     "data": {
      "text/plain": [
       "{1, 4, 27, 256, 3125, 46656, 823543, 16777216, 387420489, 10000000000}"
      ]
     },
     "execution_count": 62,
     "metadata": {},
     "output_type": "execute_result"
    }
   ],
   "source": [
    "myset1={i**i  for i in range(1,11)}\n",
    "myset1"
   ]
  },
  {
   "cell_type": "markdown",
   "metadata": {},
   "source": [
    "### Generator Comprehension"
   ]
  },
  {
   "cell_type": "code",
   "execution_count": 64,
   "metadata": {},
   "outputs": [
    {
     "name": "stdout",
     "output_type": "stream",
     "text": [
      "81\n",
      "72\n",
      "63\n",
      "54\n",
      "45\n"
     ]
    }
   ],
   "source": [
    "list1=[9,8,7,6,5]\n",
    "b=(i*9 for i in list1)\n",
    "b\n",
    "\n",
    "for i in b:\n",
    "    print(i)\n"
   ]
  },
  {
   "cell_type": "code",
   "execution_count": 66,
   "metadata": {},
   "outputs": [
    {
     "name": "stdout",
     "output_type": "stream",
     "text": [
      "<generator object <genexpr> at 0x00000210B6F20B88>\n",
      "81\n",
      "72\n",
      "63\n",
      "54\n",
      "45\n"
     ]
    }
   ],
   "source": [
    "list2=[9,8,7,6,5]\n",
    "c=(i*9 for i in list1)\n",
    "print(c)\n",
    "\n",
    "for i in c:\n",
    "    print(i)\n"
   ]
  },
  {
   "cell_type": "code",
   "execution_count": 74,
   "metadata": {},
   "outputs": [
    {
     "name": "stdout",
     "output_type": "stream",
     "text": [
      "{1: 9, 2: 8, 3: 7, 4: 6, 5: 5, 6: 4, 7: 3, 8: 2, 9: 1}\n"
     ]
    }
   ],
   "source": [
    "Num1=[1, 2,3,4,5,6,7,8,9]\n",
    "Num2=[9, 8,7,6,5,4,3,2,1]\n",
    "Dictionary1={}\n",
    "Dictionary1[key]= value\n",
    "for(key, value) in zip (num1, num2):\n",
    "       Dictionary1[key]=value\n",
    "print(dictionary1)"
   ]
  },
  {
   "cell_type": "code",
   "execution_count": null,
   "metadata": {},
   "outputs": [],
   "source": []
  }
 ],
 "metadata": {
  "kernelspec": {
   "display_name": "Python 3",
   "language": "python",
   "name": "python3"
  },
  "language_info": {
   "codemirror_mode": {
    "name": "ipython",
    "version": 3
   },
   "file_extension": ".py",
   "mimetype": "text/x-python",
   "name": "python",
   "nbconvert_exporter": "python",
   "pygments_lexer": "ipython3",
   "version": "3.7.3"
  }
 },
 "nbformat": 4,
 "nbformat_minor": 2
}
