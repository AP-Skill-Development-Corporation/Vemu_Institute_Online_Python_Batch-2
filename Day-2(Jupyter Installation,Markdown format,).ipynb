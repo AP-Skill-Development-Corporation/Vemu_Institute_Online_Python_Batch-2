{
 "cells": [
  {
   "cell_type": "markdown",
   "metadata": {},
   "source": [
    "## How to Install Anaconda software\n",
    "- https://www.anaconda.com/download/#windows\n",
    "- Double click the installer to launch.\n",
    "- Click Next.\n",
    "- Read the licensing terms and click “I Agree”.\n",
    "- Select an install for “Just Me” unless you’re installing for all users (which requires Windows Administrator privileges) and click Next.\n",
    "- Select a destination folder to install Anaconda and click the Next button.\n",
    "- Choose whether to register Anaconda as your default Python. Unless you plan on installing and running multiple versions of Anaconda or multiple versions of Python, accept the default and leave this box checked.\n",
    "- Click the Install button. If you want to watch the packages Anaconda is installing, click Show Details.\n",
    "- Click the Next button.\n",
    "- After a successful installation you will see the “Thanks for installing Anaconda” dialog box:\n",
    "- If you wish to read more about Anaconda Cloud and how to get started with Anaconda, check the boxes “Learn more about - - - Anaconda Cloud” and “Learn how to get started with Anaconda”. Click the Finish button."
   ]
  },
  {
   "cell_type": "code",
   "execution_count": null,
   "metadata": {},
   "outputs": [],
   "source": []
  },
  {
   "cell_type": "markdown",
   "metadata": {},
   "source": [
    "## Literate Programming :\n",
    "\n",
    "- Both combination of documentation and coading\n",
    "- esc +h --> For providing list of keyword shortcuts using notebook"
   ]
  },
  {
   "cell_type": "code",
   "execution_count": null,
   "metadata": {},
   "outputs": [],
   "source": []
  },
  {
   "cell_type": "markdown",
   "metadata": {},
   "source": [
    "# Markdown Format"
   ]
  },
  {
   "cell_type": "markdown",
   "metadata": {},
   "source": [
    "# - This is for Heading and used as Different sizes(# -######)"
   ]
  },
  {
   "cell_type": "markdown",
   "metadata": {},
   "source": [
    "# - Heading1\n",
    "## - Heading2\n",
    "### - Heading3\n",
    "#### - Heading4\n",
    "##### - Heading5\n",
    "###### - Heading6\n",
    "####### - Heading7........."
   ]
  },
  {
   "cell_type": "markdown",
   "metadata": {},
   "source": [
    "# Paragraph"
   ]
  },
  {
   "cell_type": "markdown",
   "metadata": {},
   "source": [
    "This is a Paragraph no symbols used here \n",
    "\n",
    "Vemu College students Are Here\n",
    "\n",
    "We are the Trainers from APSSDC\n",
    "\n",
    "P.InduPriya\n",
    "\n",
    "Siddhodana"
   ]
  },
  {
   "cell_type": "markdown",
   "metadata": {},
   "source": [
    "# **Bold** and *Itallic*"
   ]
  },
  {
   "cell_type": "markdown",
   "metadata": {},
   "source": [
    "This is a Paragraph no symbols used here \n",
    "\n",
    "Vemu College students Are Here\n",
    "\n",
    "We are the Trainers from <a href =\"https://www.apssdc.in/home/\"> APSSDC</a>\n",
    "\n",
    "# **P.InduPriya**\n",
    "<hr>\n",
    "\n",
    "## **Siddhodana**"
   ]
  },
  {
   "cell_type": "markdown",
   "metadata": {},
   "source": [
    "# Lists"
   ]
  },
  {
   "cell_type": "markdown",
   "metadata": {},
   "source": [
    "## This is Order List"
   ]
  },
  {
   "cell_type": "markdown",
   "metadata": {},
   "source": [
    "1. ECE\n",
    "2. EEE\n",
    "3. Mech\n",
    "4. Civil"
   ]
  },
  {
   "cell_type": "markdown",
   "metadata": {},
   "source": [
    "## This is UnOrder List"
   ]
  },
  {
   "cell_type": "markdown",
   "metadata": {},
   "source": [
    "- ECE\n",
    "- EE\n",
    "<hr>\n",
    "- Mech\n",
    "- Civil"
   ]
  },
  {
   "cell_type": "markdown",
   "metadata": {},
   "source": [
    "# Block Quote"
   ]
  },
  {
   "cell_type": "markdown",
   "metadata": {},
   "source": [
    "> This is Block Quote\n",
    ">> This is Block Quote\n",
    ">>> This is Block \n",
    ">>>> This is Block Quote"
   ]
  },
  {
   "cell_type": "markdown",
   "metadata": {},
   "source": [
    "# This is Hyper Links"
   ]
  },
  {
   "cell_type": "markdown",
   "metadata": {},
   "source": [
    "<a href =\"http://www.vemu.org/\"> Vemucolg</a>\n",
    "\n"
   ]
  },
  {
   "cell_type": "markdown",
   "metadata": {},
   "source": [
    "<a href =\"https://www.apssdc.in/home/\"> APSSDC</a>\n"
   ]
  },
  {
   "cell_type": "markdown",
   "metadata": {},
   "source": [
    "# Images"
   ]
  },
  {
   "cell_type": "markdown",
   "metadata": {},
   "source": [
    "![python.png](python)"
   ]
  },
  {
   "cell_type": "markdown",
   "metadata": {},
   "source": [
    "![python](python.png)"
   ]
  },
  {
   "cell_type": "code",
   "execution_count": null,
   "metadata": {},
   "outputs": [],
   "source": []
  }
 ],
 "metadata": {
  "kernelspec": {
   "display_name": "Python 3",
   "language": "python",
   "name": "python3"
  },
  "language_info": {
   "codemirror_mode": {
    "name": "ipython",
    "version": 3
   },
   "file_extension": ".py",
   "mimetype": "text/x-python",
   "name": "python",
   "nbconvert_exporter": "python",
   "pygments_lexer": "ipython3",
   "version": "3.7.3"
  }
 },
 "nbformat": 4,
 "nbformat_minor": 2
}
