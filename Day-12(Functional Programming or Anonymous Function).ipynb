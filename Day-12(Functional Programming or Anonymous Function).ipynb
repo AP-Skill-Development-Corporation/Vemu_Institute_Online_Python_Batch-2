{
 "cells": [
  {
   "cell_type": "markdown",
   "metadata": {},
   "source": [
    "# Functional Programming\n",
    "\n",
    "- Lambda\n",
    "- map\n",
    "- filter\n",
    "- reduce\n",
    "\n",
    "\n"
   ]
  },
  {
   "cell_type": "markdown",
   "metadata": {},
   "source": [
    "## Lambda()\n",
    "\n",
    "- The lambda is a operator or a lambda function is a way to create small ananymous function i.e.., function without a name..\n",
    "- Lambda is a combination of using map(),filter(),reduce()\n",
    "- syn\n",
    "    - lambda arg1,arg2,ar3.......  **:** expression\n",
    "        "
   ]
  },
  {
   "cell_type": "code",
   "execution_count": 4,
   "metadata": {},
   "outputs": [
    {
     "data": {
      "text/plain": [
       "('the addition of a,b is ', 9)"
      ]
     },
     "execution_count": 4,
     "metadata": {},
     "output_type": "execute_result"
    }
   ],
   "source": [
    "# normal functions (addition program)\n",
    "def addition (a,b):\n",
    "    Z=a+b\n",
    "    return (\"the addition of a,b is \",Z)\n",
    "\n",
    "addition(3,6)"
   ]
  },
  {
   "cell_type": "code",
   "execution_count": 6,
   "metadata": {},
   "outputs": [
    {
     "data": {
      "text/plain": [
       "9"
      ]
     },
     "execution_count": 6,
     "metadata": {},
     "output_type": "execute_result"
    }
   ],
   "source": [
    "# addition program using lambda\n",
    "\n",
    "addition1=lambda a,b : a+b\n",
    "\n",
    "addition1(3,6)"
   ]
  },
  {
   "cell_type": "markdown",
   "metadata": {},
   "source": [
    "## map():\n",
    "\n",
    "- it apllies a given function to all the iterables and create a new list\n",
    "- syn:\n",
    "    - map(function name ,[iterable1,iter2,iter3,....])\n"
   ]
  },
  {
   "cell_type": "code",
   "execution_count": 10,
   "metadata": {},
   "outputs": [
    {
     "name": "stdout",
     "output_type": "stream",
     "text": [
      "[1, 4, 9, 16, 25, 36, 49, 64, 81]\n",
      "()\n"
     ]
    }
   ],
   "source": [
    "def mul(z):\n",
    "    return z*z\n",
    "x=map(mul, [1,2,3,4,5,6,7,8,9])\n",
    "print(list(x))\n"
   ]
  },
  {
   "cell_type": "code",
   "execution_count": 11,
   "metadata": {},
   "outputs": [
    {
     "name": "stdout",
     "output_type": "stream",
     "text": [
      "()\n"
     ]
    }
   ],
   "source": [
    "print(tuple(x))\n"
   ]
  },
  {
   "cell_type": "code",
   "execution_count": 13,
   "metadata": {},
   "outputs": [
    {
     "name": "stdout",
     "output_type": "stream",
     "text": [
      "(1, 4, 9, 16, 25, 36, 49, 64, 81)\n"
     ]
    }
   ],
   "source": [
    "def mul1(z):\n",
    "    return z*z\n",
    "x1=map(mul1, (1,2,3,4,5,6,7,8,9))\n",
    "print(tuple(x1))"
   ]
  },
  {
   "cell_type": "code",
   "execution_count": 16,
   "metadata": {},
   "outputs": [
    {
     "name": "stdout",
     "output_type": "stream",
     "text": [
      "['APSSDC', 'VEMU COLLEGE', 'INDIA', 'SIDDU', 'INDU', 'PRIYA']\n"
     ]
    }
   ],
   "source": [
    "z1=[\"APSSDC\" ,\"Vemu College\" , \"india\" , \"Siddu\" , \"Indu\" ,\"priya\" ]\n",
    "z2=map(str.upper,z1)\n",
    "print(list(z2))"
   ]
  },
  {
   "cell_type": "code",
   "execution_count": 17,
   "metadata": {},
   "outputs": [
    {
     "name": "stdout",
     "output_type": "stream",
     "text": [
      "['apssdc', 'vemu college', 'india', 'siddu', 'indu', 'priya']\n"
     ]
    }
   ],
   "source": [
    "z1=[\"APSSDC\" ,\"Vemu College\" , \"india\" , \"Siddu\" , \"Indu\" ,\"priya\" ]\n",
    "z2=map(str.lower,z1)\n",
    "print(list(z2))"
   ]
  },
  {
   "cell_type": "code",
   "execution_count": 19,
   "metadata": {},
   "outputs": [
    {
     "name": "stdout",
     "output_type": "stream",
     "text": [
      "['Apssdc', 'Vemu college', 'India', 'Siddu', 'Indu', 'Priya']\n"
     ]
    }
   ],
   "source": [
    "z1=[\"APSSDC\" ,\"Vemu College\" , \"india\" , \"Siddu\" , \"Indu\" ,\"priya\" ]\n",
    "z2=map(str.capitalize,z1)\n",
    "print(list(z2))"
   ]
  },
  {
   "cell_type": "code",
   "execution_count": 21,
   "metadata": {},
   "outputs": [
    {
     "name": "stdout",
     "output_type": "stream",
     "text": [
      "['Apssdc', 'Vemu College', 'India', 'Siddu', 'Indu', 'Priya']\n"
     ]
    }
   ],
   "source": [
    "z1=[\"APSSDC\" ,\"Vemu College\" , \"india\" , \"Siddu\" , \"Indu\" ,\"priya\" ]\n",
    "z2=map(str.title,z1)\n",
    "print(list(z2))"
   ]
  },
  {
   "cell_type": "markdown",
   "metadata": {},
   "source": [
    "## map() with lambda()"
   ]
  },
  {
   "cell_type": "code",
   "execution_count": 24,
   "metadata": {},
   "outputs": [
    {
     "name": "stdout",
     "output_type": "stream",
     "text": [
      "[729, 512, 343, 216, 125, 64]\n"
     ]
    }
   ],
   "source": [
    "s=[9,8,7,6,5,4]\n",
    "s1=map(lambda x:x**3 ,s)\n",
    "print(list(s1))"
   ]
  },
  {
   "cell_type": "markdown",
   "metadata": {},
   "source": [
    "## Filter()\n",
    "\n",
    "- It creates an output list consisting of values for which the function returns True\n",
    "- syn:\n",
    "    - filter(funname,iterables)"
   ]
  },
  {
   "cell_type": "code",
   "execution_count": 31,
   "metadata": {},
   "outputs": [
    {
     "name": "stdout",
     "output_type": "stream",
     "text": [
      "55 90 96 94 100 150 55 "
     ]
    }
   ],
   "source": [
    "s2=[10,15,20,25,30,35,40,45,50,55,90,96,94,35.40,100,150,50,55]\n",
    "def greater(x):\n",
    "    if x>50:\n",
    "        return True\n",
    "    return False\n",
    "s3=filter(greater,s2)\n",
    "for i in s3:\n",
    "    print(i,end=\" \")"
   ]
  },
  {
   "cell_type": "code",
   "execution_count": 36,
   "metadata": {},
   "outputs": [
    {
     "data": {
      "text/plain": [
       "[55, 90, 96, 94, 100, 150, 55]"
      ]
     },
     "execution_count": 36,
     "metadata": {},
     "output_type": "execute_result"
    }
   ],
   "source": [
    "## Filter() with lambda()\n",
    "s4=filter(lambda x1:x1>50,s2)\n",
    "list(s4)"
   ]
  },
  {
   "cell_type": "markdown",
   "metadata": {},
   "source": [
    "# Reduce()\n",
    "\n",
    "- Reduce means decrease \n",
    "- It returns a single value as a output\n",
    "- reduce is useful when you need to apply a function to an iterable and reduce it to a single cumulative value.\n",
    "\n",
    "- syn:\n",
    "    - reduce(fun,sequence)"
   ]
  },
  {
   "cell_type": "markdown",
   "metadata": {},
   "source": [
    "s5=[1,2,3,4,5,6]\n",
    "\n",
    "x+y\n",
    "\n",
    "x=1  \n",
    "\n",
    "1 ---> 1+2=3\n",
    "\n",
    "x=3\n",
    "\n",
    "3 ---->3+3 =6\n",
    "\n",
    "x=6\n",
    "\n",
    "6 --->6+4=10\n",
    "\n",
    "x=10\n",
    "\n",
    "10 --->10+5=15\n",
    "\n",
    "x=15\n",
    "\n",
    "15--->15+6=21\n",
    "\n",
    "x= 21\n",
    "\n"
   ]
  },
  {
   "cell_type": "code",
   "execution_count": 42,
   "metadata": {},
   "outputs": [
    {
     "name": "stdout",
     "output_type": "stream",
     "text": [
      "21\n"
     ]
    }
   ],
   "source": [
    "from functools import reduce\n",
    "def r(x,y):\n",
    "    return x+y\n",
    "s5=reduce(r,[1,2,3,4,5,6])\n",
    "print((s5))"
   ]
  },
  {
   "cell_type": "markdown",
   "metadata": {},
   "source": [
    "## reduce with lambda()"
   ]
  },
  {
   "cell_type": "code",
   "execution_count": 44,
   "metadata": {},
   "outputs": [
    {
     "data": {
      "text/plain": [
       "21"
      ]
     },
     "execution_count": 44,
     "metadata": {},
     "output_type": "execute_result"
    }
   ],
   "source": [
    "s6=reduce(lambda x2,y2:x2+y2, [1,2,3,4,5,6])\n",
    "s6"
   ]
  },
  {
   "cell_type": "markdown",
   "metadata": {},
   "source": [
    "## filter() with map()"
   ]
  },
  {
   "cell_type": "code",
   "execution_count": 59,
   "metadata": {},
   "outputs": [
    {
     "data": {
      "text/plain": [
       "[110, 180, 192, 188, 200, 300, 110]"
      ]
     },
     "execution_count": 59,
     "metadata": {},
     "output_type": "execute_result"
    }
   ],
   "source": [
    "s2=[10,15,20,25,30,35,40,45,50,55,90,96,94,35.40,100,150,50,55]\n",
    "fm= map(lambda x3:x3+x3,filter(lambda x3:(x3>50) ,s2))\n",
    "# filter means >50 vales only make a list \n",
    "# [55,90,96,94,100,150,55] \n",
    "# after this apply map addition with same value\n",
    "#[55,90,96,94,100,150,55] +  [55,90,96,94,100,150,55]\n",
    "\n",
    "list(fm)"
   ]
  },
  {
   "cell_type": "markdown",
   "metadata": {},
   "source": [
    "# map() with filter()"
   ]
  },
  {
   "cell_type": "code",
   "execution_count": 58,
   "metadata": {},
   "outputs": [
    {
     "name": "stdout",
     "output_type": "stream",
     "text": [
      "[60, 70, 80, 90, 100, 110, 180, 192, 188, 70.8, 200, 300, 100, 110]\n"
     ]
    }
   ],
   "source": [
    "s2=[10,15,20,25,30,35,40,45,50,55,90,96,94,35.40,100,150,50,55]\n",
    "mf=filter((lambda x3:x3>50),map(lambda x3:x3+x3,s2))\n",
    "# apply map addition with same value\n",
    "#[10,15,20,25,30,35,40,45,50,55,90,96,94,35.40,100,150,50,55]+[10,15,20,25,30,35,40,45,50,55,90,96,94,35.40,100,150,50,55]\n",
    "# [20,30,40,50,60,70,80,90,100,110,180,192,.....]\n",
    "# after this filter >50\n",
    "print(list(mf))"
   ]
  },
  {
   "cell_type": "code",
   "execution_count": null,
   "metadata": {},
   "outputs": [],
   "source": []
  },
  {
   "cell_type": "markdown",
   "metadata": {},
   "source": [
    "## map() ,filter(),reduce() with lambda"
   ]
  },
  {
   "cell_type": "code",
   "execution_count": 67,
   "metadata": {},
   "outputs": [
    {
     "name": "stdout",
     "output_type": "stream",
     "text": [
      "1280\n"
     ]
    }
   ],
   "source": [
    "s2=[10,15,20,25,30,35,40,45,50,55,90,96,94,35.40,100,150,50,55]\n",
    "mfr= reduce(lambda x,y:x+y,map(lambda x3:x3+x3,filter(lambda x3:(x3>50) ,s2)))\n",
    "print((mfr))"
   ]
  },
  {
   "cell_type": "code",
   "execution_count": 68,
   "metadata": {},
   "outputs": [
    {
     "data": {
      "text/plain": [
       "1280"
      ]
     },
     "execution_count": 68,
     "metadata": {},
     "output_type": "execute_result"
    }
   ],
   "source": [
    "sum([110, 180, 192, 188, 200, 300, 110])"
   ]
  },
  {
   "cell_type": "code",
   "execution_count": null,
   "metadata": {},
   "outputs": [],
   "source": []
  }
 ],
 "metadata": {
  "kernelspec": {
   "display_name": "Python 3",
   "language": "python",
   "name": "python3"
  },
  "language_info": {
   "codemirror_mode": {
    "name": "ipython",
    "version": 3
   },
   "file_extension": ".py",
   "mimetype": "text/x-python",
   "name": "python",
   "nbconvert_exporter": "python",
   "pygments_lexer": "ipython3",
   "version": "3.7.3"
  }
 },
 "nbformat": 4,
 "nbformat_minor": 2
}
