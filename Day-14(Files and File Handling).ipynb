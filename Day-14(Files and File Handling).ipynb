{
 "cells": [
  {
   "cell_type": "markdown",
   "metadata": {},
   "source": [
    "# Files and File Handling\n"
   ]
  },
  {
   "cell_type": "markdown",
   "metadata": {},
   "source": [
    "## What is File\n",
    "- It is used to store some data / Information\n",
    "\n",
    "\n",
    "## What is File Handling\n",
    "- **create,write ,read,update,delete**\n",
    "- **open()**\n",
    "- **working**\n",
    "- **close()**"
   ]
  },
  {
   "cell_type": "markdown",
   "metadata": {},
   "source": [
    "## File Methods\n",
    "- **open()** \n",
    "    - filenameeg=open(\"filename\",mode)\n",
    "- **read()**\n",
    "    - filenameeg.read(size)\n",
    "- **write**\n",
    "    - filenameeg.write(data)\n",
    "- **readlines**\n",
    "    - filenameeg.readlines()\n",
    "- **close()**\n",
    "    - filenameeg.close()"
   ]
  },
  {
   "cell_type": "markdown",
   "metadata": {},
   "source": [
    "- **Modes**\n",
    "    - open(\"filename\",r)\n",
    "    - open(\"filename\",r+)\n",
    "    - open(\"filename\",rb)\n",
    "    - open(\"filename\",rb+)\n",
    "    - open(\"filename\",w)\n",
    "    - open(\"filename\",wb)\n",
    "    - open(\"filename\",wb+)\n",
    "    - open(\"filename\",w+)\n",
    "    - open(\"filename\",mode)\n",
    "    - open(\"filename\",a)\n",
    "    "
   ]
  },
  {
   "cell_type": "code",
   "execution_count": 1,
   "metadata": {},
   "outputs": [
    {
     "ename": "FileNotFoundError",
     "evalue": "[Errno 2] No such file or directory: 'APSSDC.txt'",
     "output_type": "error",
     "traceback": [
      "\u001b[1;31m---------------------------------------------------------------------------\u001b[0m",
      "\u001b[1;31mFileNotFoundError\u001b[0m                         Traceback (most recent call last)",
      "\u001b[1;32m<ipython-input-1-a66522d319e0>\u001b[0m in \u001b[0;36m<module>\u001b[1;34m\u001b[0m\n\u001b[0;32m      1\u001b[0m \u001b[1;31m# open the file\u001b[0m\u001b[1;33m\u001b[0m\u001b[1;33m\u001b[0m\u001b[1;33m\u001b[0m\u001b[0m\n\u001b[0;32m      2\u001b[0m \u001b[1;33m\u001b[0m\u001b[0m\n\u001b[1;32m----> 3\u001b[1;33m \u001b[0mmyfile\u001b[0m\u001b[1;33m=\u001b[0m\u001b[0mopen\u001b[0m\u001b[1;33m(\u001b[0m\u001b[1;34m\"APSSDC.txt\"\u001b[0m\u001b[1;33m,\u001b[0m\u001b[1;34m\"r\"\u001b[0m\u001b[1;33m)\u001b[0m\u001b[1;33m\u001b[0m\u001b[1;33m\u001b[0m\u001b[0m\n\u001b[0m\u001b[0;32m      4\u001b[0m \u001b[1;33m\u001b[0m\u001b[0m\n\u001b[0;32m      5\u001b[0m \u001b[1;32mif\u001b[0m \u001b[0mmyfile\u001b[0m\u001b[1;33m:\u001b[0m\u001b[1;33m\u001b[0m\u001b[1;33m\u001b[0m\u001b[0m\n",
      "\u001b[1;31mFileNotFoundError\u001b[0m: [Errno 2] No such file or directory: 'APSSDC.txt'"
     ]
    }
   ],
   "source": [
    "# open the file\n",
    "\n",
    "myfile=open(\"APSSDC.txt\",\"r\")\n",
    "\n",
    "if myfile:\n",
    "    print(\"My APSSDC file opened Successfully\")\n",
    "    \n",
    "myfile.close()"
   ]
  },
  {
   "cell_type": "code",
   "execution_count": 2,
   "metadata": {},
   "outputs": [
    {
     "name": "stdout",
     "output_type": "stream",
     "text": [
      "My APSSDC file opened Successfully\n"
     ]
    }
   ],
   "source": [
    "# open the file\n",
    "\n",
    "myfile=open(\"sample.txt\",\"r\")\n",
    "\n",
    "if myfile:\n",
    "    print(\"My APSSDC file opened Successfully\")\n",
    "    \n",
    "myfile.close()"
   ]
  },
  {
   "cell_type": "code",
   "execution_count": 4,
   "metadata": {},
   "outputs": [
    {
     "name": "stdout",
     "output_type": "stream",
     "text": [
      "APSSDC Python Online Session\n"
     ]
    }
   ],
   "source": [
    "myfile=open(\"sample.txt\",\"r\")\n",
    "fileread=myfile.read()\n",
    "print(fileread)"
   ]
  },
  {
   "cell_type": "code",
   "execution_count": 5,
   "metadata": {},
   "outputs": [
    {
     "name": "stdout",
     "output_type": "stream",
     "text": [
      "APSSDC\n"
     ]
    }
   ],
   "source": [
    "myfile=open(\"sample.txt\",\"r\")\n",
    "fileread=myfile.read(6)\n",
    "print(fileread)"
   ]
  },
  {
   "cell_type": "code",
   "execution_count": 9,
   "metadata": {},
   "outputs": [
    {
     "name": "stdout",
     "output_type": "stream",
     "text": [
      "Succesfully write the information into file\n"
     ]
    }
   ],
   "source": [
    "newfile=open(\"vemu.txt\",\"w\")\n",
    "info=\"We are Vemu College Students learn Python\"\n",
    "newfile.write(info)\n",
    "print(\"Succesfully write the information into file\")"
   ]
  },
  {
   "cell_type": "code",
   "execution_count": 12,
   "metadata": {},
   "outputs": [
    {
     "name": "stdout",
     "output_type": "stream",
     "text": [
      "Succesfully write the information into file\n"
     ]
    }
   ],
   "source": [
    "newfile=open(\"sample.txt\",\"w\")\n",
    "info=\"We are Vemu College Students\"\n",
    "newfile.write(info)\n",
    "print(\"Succesfully write the information into file\")"
   ]
  },
  {
   "cell_type": "code",
   "execution_count": 15,
   "metadata": {},
   "outputs": [
    {
     "name": "stdout",
     "output_type": "stream",
     "text": [
      "Succesfully write the information into file\n"
     ]
    }
   ],
   "source": [
    "newfile=open(\"indu.txt\",\"w\")\n",
    "info=\"I am InduPriya ....Working as a Python Developer in APSSDC\"\n",
    "newfile.write(info)\n",
    "print(\"Succesfully write the information into file\")\n"
   ]
  },
  {
   "cell_type": "code",
   "execution_count": 18,
   "metadata": {},
   "outputs": [
    {
     "name": "stdout",
     "output_type": "stream",
     "text": [
      "success\n"
     ]
    }
   ],
   "source": [
    "appendexample=open(\"indu.txt\",\"a\")\n",
    "appendexample.write(\"  \" + \" This is editing line through append mode\")\n",
    "print(\"success\")"
   ]
  },
  {
   "cell_type": "code",
   "execution_count": 22,
   "metadata": {},
   "outputs": [
    {
     "name": "stdout",
     "output_type": "stream",
     "text": [
      "I am InduPriya ....Working as a Python Developer in APSSDC   This is editing line through append mode   This is editing line through append mode\n"
     ]
    }
   ],
   "source": [
    "appendcheck=open(\"indu.txt\",\"r\")\n",
    "print(appendcheck.read())\n",
    "# appendcheck.close()"
   ]
  },
  {
   "cell_type": "code",
   "execution_count": 23,
   "metadata": {},
   "outputs": [
    {
     "ename": "FileNotFoundError",
     "evalue": "[Errno 2] No such file or directory: 'siddu.txt'",
     "output_type": "error",
     "traceback": [
      "\u001b[1;31m---------------------------------------------------------------------------\u001b[0m",
      "\u001b[1;31mFileNotFoundError\u001b[0m                         Traceback (most recent call last)",
      "\u001b[1;32m<ipython-input-23-e7b292861533>\u001b[0m in \u001b[0;36m<module>\u001b[1;34m\u001b[0m\n\u001b[1;32m----> 1\u001b[1;33m \u001b[0mappendcheck\u001b[0m\u001b[1;33m=\u001b[0m\u001b[0mopen\u001b[0m\u001b[1;33m(\u001b[0m\u001b[1;34m\"siddu.txt\"\u001b[0m\u001b[1;33m,\u001b[0m\u001b[1;34m\"r\"\u001b[0m\u001b[1;33m)\u001b[0m\u001b[1;33m\u001b[0m\u001b[1;33m\u001b[0m\u001b[0m\n\u001b[0m\u001b[0;32m      2\u001b[0m \u001b[0mprint\u001b[0m\u001b[1;33m(\u001b[0m\u001b[0mappendcheck\u001b[0m\u001b[1;33m.\u001b[0m\u001b[0mread\u001b[0m\u001b[1;33m(\u001b[0m\u001b[1;33m)\u001b[0m\u001b[1;33m)\u001b[0m\u001b[1;33m\u001b[0m\u001b[1;33m\u001b[0m\u001b[0m\n\u001b[0;32m      3\u001b[0m \u001b[0mappendcheck\u001b[0m\u001b[1;33m.\u001b[0m\u001b[0mclose\u001b[0m\u001b[1;33m(\u001b[0m\u001b[1;33m)\u001b[0m\u001b[1;33m\u001b[0m\u001b[1;33m\u001b[0m\u001b[0m\n",
      "\u001b[1;31mFileNotFoundError\u001b[0m: [Errno 2] No such file or directory: 'siddu.txt'"
     ]
    }
   ],
   "source": [
    "appendcheck=open(\"siddu.txt\",\"r\")\n",
    "print(appendcheck.read())\n",
    "appendcheck.close()"
   ]
  },
  {
   "cell_type": "code",
   "execution_count": 25,
   "metadata": {},
   "outputs": [
    {
     "name": "stdout",
     "output_type": "stream",
     "text": [
      "26\n"
     ]
    }
   ],
   "source": [
    "a=open(\"siddu.txt\",\"w\")\n",
    "print(a.write(\"Here display content count\"))\n",
    "a.close()"
   ]
  },
  {
   "cell_type": "code",
   "execution_count": 26,
   "metadata": {},
   "outputs": [
    {
     "name": "stdout",
     "output_type": "stream",
     "text": [
      "48\n"
     ]
    }
   ],
   "source": [
    "a=open(\"stars.txt\",\"w\")\n",
    "print(a.write(\"************************************************\"))\n",
    "a.close()"
   ]
  },
  {
   "cell_type": "code",
   "execution_count": 33,
   "metadata": {},
   "outputs": [
    {
     "name": "stdout",
     "output_type": "stream",
     "text": [
      "True\n",
      "w\n",
      "stars.txt\n"
     ]
    }
   ],
   "source": [
    "# note : After apperaing the read or write operation or working of a file which must be close\n",
    "print(a.closed)\n",
    "print(a.mode)\n",
    "print(a.name)"
   ]
  },
  {
   "cell_type": "code",
   "execution_count": 38,
   "metadata": {},
   "outputs": [],
   "source": [
    "file=open(\"indu.txt\" ,encoding=\"utf-8\")\n",
    "file.close()"
   ]
  },
  {
   "cell_type": "markdown",
   "metadata": {},
   "source": [
    "## with "
   ]
  },
  {
   "cell_type": "code",
   "execution_count": 1,
   "metadata": {},
   "outputs": [
    {
     "name": "stdout",
     "output_type": "stream",
     "text": [
      "I am InduPriya ....Working as a Python Developer in APSSDC   This is editing line through append mode   This is editing line through append mode\n"
     ]
    }
   ],
   "source": [
    "with open(\"indu.txt\" ,\"r\") as file1:\n",
    "    data=file1.read()\n",
    "    print(data)"
   ]
  },
  {
   "cell_type": "code",
   "execution_count": 3,
   "metadata": {},
   "outputs": [
    {
     "name": "stdout",
     "output_type": "stream",
     "text": [
      "successfully added\n"
     ]
    }
   ],
   "source": [
    "with open(\"apssdc.txt\", \"a\") as file2:\n",
    "    file2.write(\" \" + \"Hello Vemu college colg guys,Welcome to Python Programmimg conducted by APSSDC\")\n",
    "    print(\"successfully added\")"
   ]
  },
  {
   "cell_type": "code",
   "execution_count": 4,
   "metadata": {},
   "outputs": [
    {
     "name": "stdout",
     "output_type": "stream",
     "text": [
      "successfully added\n"
     ]
    }
   ],
   "source": [
    "with open(\"apssdc.txt\", \"w\") as file2:\n",
    "    file2.write(\" \" + \"I love my INDIA\")\n",
    "    print(\"successfully added\")"
   ]
  },
  {
   "cell_type": "code",
   "execution_count": 5,
   "metadata": {},
   "outputs": [
    {
     "name": "stdout",
     "output_type": "stream",
     "text": [
      "We are Vemu College Students learn Python\n"
     ]
    }
   ],
   "source": [
    "with open (\"vemu.txt\" ,\"r\") as file3:\n",
    "    data1=file3.read()\n",
    "    print(data1)"
   ]
  },
  {
   "cell_type": "code",
   "execution_count": 6,
   "metadata": {},
   "outputs": [
    {
     "name": "stdout",
     "output_type": "stream",
     "text": [
      "I am InduPriya ....\n",
      "Working as a Python Developer in APSSDC   \n",
      "This is editing line through append mode   \n",
      "This is editing line through append mode\n",
      "\n",
      "\n",
      "\n",
      "\n",
      "\n",
      "\n",
      "Hello Guys Welcome to Online Python Session\n",
      "\n",
      "Conducted by APSSDC\n",
      "\n",
      "Here We are 2 Trainers\n",
      "\n",
      "******InduPriya*******\n",
      "\n",
      "*****Samkambari Siddhodana*****\n"
     ]
    }
   ],
   "source": [
    "with open(\"indu.txt\",\"r\") as file4:\n",
    "    data2=file4.read()\n",
    "    print(data2)"
   ]
  },
  {
   "cell_type": "code",
   "execution_count": 7,
   "metadata": {},
   "outputs": [
    {
     "name": "stdout",
     "output_type": "stream",
     "text": [
      "['I am InduPriya ....\\n', 'Working as a Python Developer in APSSDC   \\n', 'This is editing line through append mode   \\n', 'This is editing line through append mode\\n', '\\n', '\\n', '\\n', '\\n', '\\n', '\\n', 'Hello Guys Welcome to Online Python Session\\n', '\\n', 'Conducted by APSSDC\\n', '\\n', 'Here We are 2 Trainers\\n', '\\n', '******InduPriya*******\\n', '\\n', '*****Samkambari Siddhodana*****']\n"
     ]
    }
   ],
   "source": [
    "with open(\"indu.txt\",\"r\") as file4:\n",
    "    data2=file4.readlines()\n",
    "    print(data2)"
   ]
  },
  {
   "cell_type": "code",
   "execution_count": 11,
   "metadata": {},
   "outputs": [],
   "source": [
    "with open(\"sample1.excel\" ,\"w\") as file5:\n",
    "    file5.write(\"Marks:90\")"
   ]
  },
  {
   "cell_type": "code",
   "execution_count": 12,
   "metadata": {},
   "outputs": [
    {
     "name": "stdout",
     "output_type": "stream",
     "text": [
      "ï»¿Programming language,Designed by,Appeared,Extension\n",
      "Python,Guido van Rossum,1991,.py\n",
      "Java,James Gosling,1995,.java\n",
      "C++,Bjarne Stroustrup,1983,.cpp\n",
      "\n"
     ]
    }
   ],
   "source": [
    "with open(\"data.csv\" ,\"r\") as file6:\n",
    "    print(file6.read())"
   ]
  },
  {
   "cell_type": "code",
   "execution_count": 13,
   "metadata": {},
   "outputs": [
    {
     "name": "stdout",
     "output_type": "stream",
     "text": [
      "success\n"
     ]
    }
   ],
   "source": [
    "with open(\"priya.txt\",\"wb\") as file7:\n",
    "    data3=\"987654321qwerty1234567890asdfgh!@#$%^\".encode(\"ascii\")\n",
    "    file7.write(data3)\n",
    "    print(\"success\")"
   ]
  },
  {
   "cell_type": "code",
   "execution_count": 14,
   "metadata": {},
   "outputs": [
    {
     "data": {
      "text/plain": [
       "b'987654321qwerty1234567890asdfgh!@#$%^'"
      ]
     },
     "execution_count": 14,
     "metadata": {},
     "output_type": "execute_result"
    }
   ],
   "source": [
    "data3"
   ]
  },
  {
   "cell_type": "code",
   "execution_count": 15,
   "metadata": {},
   "outputs": [
    {
     "data": {
      "text/plain": [
       "'0b1100011'"
      ]
     },
     "execution_count": 15,
     "metadata": {},
     "output_type": "execute_result"
    }
   ],
   "source": [
    "bin(99)"
   ]
  },
  {
   "cell_type": "code",
   "execution_count": 17,
   "metadata": {},
   "outputs": [
    {
     "data": {
      "text/plain": [
       "99"
      ]
     },
     "execution_count": 17,
     "metadata": {},
     "output_type": "execute_result"
    }
   ],
   "source": [
    "int(0b1100011)"
   ]
  },
  {
   "cell_type": "code",
   "execution_count": 20,
   "metadata": {},
   "outputs": [
    {
     "ename": "TypeError",
     "evalue": "'str' object cannot be interpreted as an integer",
     "output_type": "error",
     "traceback": [
      "\u001b[1;31m---------------------------------------------------------------------------\u001b[0m",
      "\u001b[1;31mTypeError\u001b[0m                                 Traceback (most recent call last)",
      "\u001b[1;32m<ipython-input-20-87358a34ab45>\u001b[0m in \u001b[0;36m<module>\u001b[1;34m\u001b[0m\n\u001b[1;32m----> 1\u001b[1;33m \u001b[0mbin\u001b[0m\u001b[1;33m(\u001b[0m\u001b[1;34m\"987654321qwerty1234567890asdfgh!@#$%^\"\u001b[0m\u001b[1;33m)\u001b[0m\u001b[1;33m\u001b[0m\u001b[1;33m\u001b[0m\u001b[0m\n\u001b[0m",
      "\u001b[1;31mTypeError\u001b[0m: 'str' object cannot be interpreted as an integer"
     ]
    }
   ],
   "source": [
    "bin(\"987654321qwerty1234567890asdfgh!@#$%^\")"
   ]
  },
  {
   "cell_type": "markdown",
   "metadata": {},
   "source": [
    "## File objective Methods\n",
    "- **Seek**\n",
    "    - Used to change the cursor position\n",
    "- **tell**\n",
    "    - Used to know the curser position"
   ]
  },
  {
   "cell_type": "code",
   "execution_count": 30,
   "metadata": {},
   "outputs": [
    {
     "name": "stdout",
     "output_type": "stream",
     "text": [
      "299\n",
      "100\n",
      "I am InduPriya ....\n",
      "Working as a Python Developer in APSSDC   \n",
      "This is editing line through append mode   \n",
      "This is editing line through append mode\n",
      "\n",
      "\n",
      "\n",
      "\n",
      "\n",
      "\n",
      "Hello Guys Welcome to Online Python Session\n",
      "\n",
      "Conducted by APSSDC\n",
      "\n",
      "Here We are 2 Trainers\n",
      "\n",
      "******InduPriya*******\n",
      "\n",
      "*****Samkambari Siddhodana*****\n"
     ]
    }
   ],
   "source": [
    "with open(\"indu.txt\",\"r\") as file8:\n",
    "    data3=file8.read()\n",
    "    print(file8.tell())\n",
    "    file8.seek(100)\n",
    "    print(file8.tell())\n",
    "    print(data3)"
   ]
  },
  {
   "cell_type": "code",
   "execution_count": null,
   "metadata": {},
   "outputs": [],
   "source": []
  }
 ],
 "metadata": {
  "kernelspec": {
   "display_name": "Python 3",
   "language": "python",
   "name": "python3"
  },
  "language_info": {
   "codemirror_mode": {
    "name": "ipython",
    "version": 3
   },
   "file_extension": ".py",
   "mimetype": "text/x-python",
   "name": "python",
   "nbconvert_exporter": "python",
   "pygments_lexer": "ipython3",
   "version": "3.7.3"
  }
 },
 "nbformat": 4,
 "nbformat_minor": 2
}
