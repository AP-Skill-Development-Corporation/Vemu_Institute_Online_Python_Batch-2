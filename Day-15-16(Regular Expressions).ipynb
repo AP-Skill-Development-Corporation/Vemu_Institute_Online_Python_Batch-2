{
 "cells": [
  {
   "cell_type": "markdown",
   "metadata": {},
   "source": [
    "# Regular Expressions:\n",
    "\n",
    "- **Regular expressions are a language used to match specific occurrences of strings by following their pattern across the whole string. When a match is found, the resulting matched string will be returned back to user and will be held inside a structure in Python format, such as tuple, list, or dictionary. The following table summarizes the most common patterns in regular expressions:**\n",
    "\n",
    "\n",
    "- **Its a sequeance of characters that defines a search pattern**\n",
    "- This is also called as a RegEx / re module\n",
    "\n",
    "\n",
    "## What is the use of Re?\n",
    "\n",
    "- We can be used to search,edit, and manipulate the string/text \n",
    "\n",
    "## How to use Re?\n",
    "\n",
    "- need to import re\n",
    "- **import re**\n",
    "\n",
    "#### Rules for Re \n",
    "\n",
    "- Search pattern rulescan be formmed along with following rules\n",
    "- these rules are including **meta characters** ,**special sequence** ,**sets:**\n",
    "\n",
    "- **meta characters** : [] ,.,^,+....\n",
    "\n",
    "- **Special Sequence** : \\A,\\B,\\S,\\D,\\d,\\b,...etc.,\n",
    "\n",
    "- **sets**: [A-Z,a-z],{0-9} etc..,\n",
    "\n",
    "\n"
   ]
  },
  {
   "cell_type": "markdown",
   "metadata": {},
   "source": [
    "![image](reg2.png)"
   ]
  },
  {
   "cell_type": "markdown",
   "metadata": {},
   "source": [
    "![reg1](reg1.png) "
   ]
  },
  {
   "cell_type": "markdown",
   "metadata": {},
   "source": [
    "## Functions in Re Module\n",
    "\n",
    "- Match()\n",
    "- search()\n",
    "- findall()\n",
    "- split()\n",
    "- sub()...\n",
    "\n"
   ]
  },
  {
   "cell_type": "code",
   "execution_count": 4,
   "metadata": {},
   "outputs": [],
   "source": [
    "import re"
   ]
  },
  {
   "cell_type": "code",
   "execution_count": 3,
   "metadata": {},
   "outputs": [
    {
     "data": {
      "text/plain": [
       "['A',\n",
       " 'ASCII',\n",
       " 'DEBUG',\n",
       " 'DOTALL',\n",
       " 'I',\n",
       " 'IGNORECASE',\n",
       " 'L',\n",
       " 'LOCALE',\n",
       " 'M',\n",
       " 'MULTILINE',\n",
       " 'Match',\n",
       " 'Pattern',\n",
       " 'RegexFlag',\n",
       " 'S',\n",
       " 'Scanner',\n",
       " 'T',\n",
       " 'TEMPLATE',\n",
       " 'U',\n",
       " 'UNICODE',\n",
       " 'VERBOSE',\n",
       " 'X',\n",
       " '_MAXCACHE',\n",
       " '__all__',\n",
       " '__builtins__',\n",
       " '__cached__',\n",
       " '__doc__',\n",
       " '__file__',\n",
       " '__loader__',\n",
       " '__name__',\n",
       " '__package__',\n",
       " '__spec__',\n",
       " '__version__',\n",
       " '_cache',\n",
       " '_compile',\n",
       " '_compile_repl',\n",
       " '_expand',\n",
       " '_locale',\n",
       " '_pickle',\n",
       " '_special_chars_map',\n",
       " '_subx',\n",
       " 'compile',\n",
       " 'copyreg',\n",
       " 'enum',\n",
       " 'error',\n",
       " 'escape',\n",
       " 'findall',\n",
       " 'finditer',\n",
       " 'fullmatch',\n",
       " 'functools',\n",
       " 'match',\n",
       " 'purge',\n",
       " 'search',\n",
       " 'split',\n",
       " 'sre_compile',\n",
       " 'sre_parse',\n",
       " 'sub',\n",
       " 'subn',\n",
       " 'template']"
      ]
     },
     "execution_count": 3,
     "metadata": {},
     "output_type": "execute_result"
    }
   ],
   "source": [
    "dir(re)"
   ]
  },
  {
   "cell_type": "markdown",
   "metadata": {},
   "source": [
    "# Match():\n",
    "- Its searchesthe pattern only at the beggining and returns a first occurence only and if match is not its return none object\n",
    "\n",
    "- syn:\n",
    "    re.match(pattern,sequence/string)\n"
   ]
  },
  {
   "cell_type": "code",
   "execution_count": 5,
   "metadata": {},
   "outputs": [
    {
     "name": "stdout",
     "output_type": "stream",
     "text": [
      "<re.Match object; span=(0, 1), match='V'>\n"
     ]
    }
   ],
   "source": [
    "# match() example\n",
    "import re\n",
    "mystring=\"Vemu college students learn Python programming\"\n",
    "pattern=\"V\"\n",
    "print(re.match(pattern,mystring))"
   ]
  },
  {
   "cell_type": "code",
   "execution_count": 6,
   "metadata": {},
   "outputs": [
    {
     "name": "stdout",
     "output_type": "stream",
     "text": [
      "None\n"
     ]
    }
   ],
   "source": [
    "# match() example\n",
    "import re\n",
    "mystring=\"Vemu college students learn Python programming\"\n",
    "pattern=\"v\"\n",
    "print(re.match(pattern,mystring))"
   ]
  },
  {
   "cell_type": "code",
   "execution_count": 24,
   "metadata": {},
   "outputs": [
    {
     "name": "stdout",
     "output_type": "stream",
     "text": [
      "<re.Match object; span=(0, 6), match='Python'>\n"
     ]
    }
   ],
   "source": [
    "# match() example\n",
    "import re\n",
    "mystring1=\"Python is a Super and Easy learning Programming\"\n",
    "match=re.match('\\APython',mystring1)\n",
    "# \\A for returns a match if the specified character are at the begining of the string\n",
    "print(match)"
   ]
  },
  {
   "cell_type": "code",
   "execution_count": 30,
   "metadata": {},
   "outputs": [
    {
     "ename": "AttributeError",
     "evalue": "'NoneType' object has no attribute 're'",
     "output_type": "error",
     "traceback": [
      "\u001b[1;31m---------------------------------------------------------------------------\u001b[0m",
      "\u001b[1;31mAttributeError\u001b[0m                            Traceback (most recent call last)",
      "\u001b[1;32m<ipython-input-30-ecb7fbf6b4f2>\u001b[0m in \u001b[0;36m<module>\u001b[1;34m\u001b[0m\n\u001b[1;32m----> 1\u001b[1;33m \u001b[0mprint\u001b[0m\u001b[1;33m(\u001b[0m\u001b[0mmatch\u001b[0m\u001b[1;33m.\u001b[0m\u001b[0mre\u001b[0m\u001b[1;33m)\u001b[0m\u001b[1;33m\u001b[0m\u001b[1;33m\u001b[0m\u001b[0m\n\u001b[0m\u001b[0;32m      2\u001b[0m \u001b[0mprint\u001b[0m\u001b[1;33m(\u001b[0m\u001b[0mmatch\u001b[0m\u001b[1;33m.\u001b[0m\u001b[0mspan\u001b[0m\u001b[1;33m(\u001b[0m\u001b[1;33m)\u001b[0m\u001b[1;33m)\u001b[0m\u001b[1;33m\u001b[0m\u001b[1;33m\u001b[0m\u001b[0m\n\u001b[0;32m      3\u001b[0m \u001b[0mprint\u001b[0m\u001b[1;33m(\u001b[0m\u001b[0mmatch\u001b[0m\u001b[1;33m.\u001b[0m\u001b[0mmystring1\u001b[0m\u001b[1;33m)\u001b[0m\u001b[1;33m\u001b[0m\u001b[1;33m\u001b[0m\u001b[0m\n",
      "\u001b[1;31mAttributeError\u001b[0m: 'NoneType' object has no attribute 're'"
     ]
    }
   ],
   "source": [
    "print(match.re)\n",
    "print(match.span())\n",
    "print(match.mystring1)"
   ]
  },
  {
   "cell_type": "code",
   "execution_count": 26,
   "metadata": {},
   "outputs": [
    {
     "name": "stdout",
     "output_type": "stream",
     "text": [
      "None\n"
     ]
    }
   ],
   "source": [
    "# match() example\n",
    "import re\n",
    "mystring1=\"Python is a Super and Easy learning Programming\"\n",
    "match=re.match('\\Ais',mystring1)\n",
    "# \\A for returns a match if the specified character are at the begining of the string\n",
    "print(match)"
   ]
  },
  {
   "cell_type": "markdown",
   "metadata": {},
   "source": [
    "## search(): \n",
    "- It seraches the entire all lines of the string"
   ]
  },
  {
   "cell_type": "code",
   "execution_count": 33,
   "metadata": {},
   "outputs": [
    {
     "data": {
      "text/plain": [
       "<re.Match object; span=(6, 7), match='o'>"
      ]
     },
     "execution_count": 33,
     "metadata": {},
     "output_type": "execute_result"
    }
   ],
   "source": [
    "# serach\n",
    "import re\n",
    "re.search(\"o\",\"Vemu college\" )"
   ]
  },
  {
   "cell_type": "code",
   "execution_count": 40,
   "metadata": {},
   "outputs": [
    {
     "name": "stdout",
     "output_type": "stream",
     "text": [
      "priya\n",
      "apssdc\n"
     ]
    }
   ],
   "source": [
    "searchnames=[\"Indu\",\"priya\",\"vemucollege\",\"apssdc\",\"python\",\"siddu\"]\n",
    "for name in searchnames:\n",
    "    if re.search(\"a\",name):\n",
    "        print(name)"
   ]
  },
  {
   "cell_type": "markdown",
   "metadata": {},
   "source": [
    "## findall() :\n",
    "- Its returns a list of strings containing all matches:\n",
    "\n"
   ]
  },
  {
   "cell_type": "code",
   "execution_count": 41,
   "metadata": {},
   "outputs": [
    {
     "name": "stdout",
     "output_type": "stream",
     "text": [
      "['2', '9', '3', '6', '7', '7', '9', '0']\n"
     ]
    }
   ],
   "source": [
    "# findall()\n",
    "import re\n",
    "mystring2=\"hello 2936 vemucollege 77 apssdc , python programming 90\"\n",
    "pattern=\"\\d\"\n",
    "# \\d returns a match where the string contains digits (0-9)\n",
    "result=re.findall(pattern,mystring2)\n",
    "print(result)"
   ]
  },
  {
   "cell_type": "code",
   "execution_count": 42,
   "metadata": {},
   "outputs": [
    {
     "name": "stdout",
     "output_type": "stream",
     "text": [
      "['2936', '77', '90']\n"
     ]
    }
   ],
   "source": [
    "# findall()\n",
    "import re\n",
    "mystring3=\"hello 2936 vemucollege 77 apssdc , python programming 90\"\n",
    "pattern1=\"\\d+\"\n",
    "# \\d returns a match where the string contains digits (0-9)\n",
    "result1=re.findall(pattern1,mystring3)\n",
    "print(result1)"
   ]
  },
  {
   "cell_type": "markdown",
   "metadata": {},
   "source": [
    "## split():\n",
    "- Its splits the string where is match found and return a list of strings where the split have occured"
   ]
  },
  {
   "cell_type": "code",
   "execution_count": 47,
   "metadata": {},
   "outputs": [
    {
     "name": "stdout",
     "output_type": "stream",
     "text": [
      "['Regular expressions are a language used to match specific occurrences of strings by following their pattern across the whole string. When a match is found,', '', '', ' ', '', '', '', '', '', ',', '', '', '', '', '', '', '', '', '', ',', '', '', '', '', '@#%^%%&^*,', '', '', '', '', '', '     ', '', '', '', '']\n",
      "['Regular expressions are a language used to match specific occurrences of strings by following their pattern across the whole string. When a match is found,', '87 568798,1234667687,28799@#%^%%&^*,657567     9809']\n",
      "['Regular expressions are a language used to match specific occurrences of strings by following their pattern across the whole string. When a match is found,', '', '7 568798,1234667687,28799@#%^%%&^*,657567     9809']\n"
     ]
    }
   ],
   "source": [
    "# split()\n",
    "import re\n",
    "mystring4=\"Regular expressions are a language used to match specific occurrences of strings by following their pattern across the whole string. When a match is found,987 568798,1234667687,28799@#%^%%&^*,657567     9809\"\n",
    "pattern2=\" \"\n",
    "print(re.split(pattern,mystring4))\n",
    "print(re.split(pattern,mystring4,1))\n",
    "print(re.split(pattern,mystring4,2))"
   ]
  },
  {
   "cell_type": "markdown",
   "metadata": {},
   "source": [
    "## sub function\n",
    "- It returns a string where matched occurence are placed with values of replace variale\n",
    "- syn\n",
    "    - re.sub(pattern,replace,string\n",
    "    - It match is not fount it returns original string"
   ]
  },
  {
   "cell_type": "code",
   "execution_count": 54,
   "metadata": {},
   "outputs": [
    {
     "name": "stdout",
     "output_type": "stream",
     "text": [
      "abc***123***\\***xyz***36***29***python***,***vemu***colg***\n",
      "abc123\\xyz3629python,vemucolg\n",
      "abc$123$\\$xyz$36$29$python$,$vemu$colg$\n"
     ]
    }
   ],
   "source": [
    "# sub function example\n",
    "import re\n",
    "mystring6=\"abc 123 \\ xyz \\n 36 29 \\n python , vemu colg \\n\"\n",
    "pattern=\"\\s+\"\n",
    "# \\s+ retuens a match where the string contains a white space character\n",
    "replace=\"***\"\n",
    "replace1=\"\"\n",
    "replace2=\"$\"\n",
    "new=re.sub(pattern,replace,mystring6)\n",
    "print(new)\n",
    "new1=re.sub(pattern,replace1,mystring6)\n",
    "print(new1)\n",
    "new2=re.sub(pattern,replace2,mystring6)\n",
    "print(new2)"
   ]
  },
  {
   "cell_type": "code",
   "execution_count": 57,
   "metadata": {},
   "outputs": [
    {
     "name": "stdout",
     "output_type": "stream",
     "text": [
      "(17, 23)\n",
      "91\n",
      "(31, 37)\n",
      "91\n",
      "(78, 84)\n",
      "91\n"
     ]
    }
   ],
   "source": [
    "# find iter\n",
    "string=\"apssdc conducted python online pythonprogramming for vemu colg students learn pythonprogram\"\n",
    "for i in re.finditer(\"python\",string):\n",
    "    result=i.span()\n",
    "    # . means any charater except newline character\n",
    "    print(result)\n",
    "    print(len(string))\n"
   ]
  },
  {
   "cell_type": "markdown",
   "metadata": {},
   "source": [
    "match()\n",
    "search()\n",
    "findall()\n",
    "split()\n",
    "sub()\n",
    "\n",
    "\n",
    "upto now above topics completed now phno and email  validation which concept we use "
   ]
  },
  {
   "cell_type": "code",
   "execution_count": null,
   "metadata": {},
   "outputs": [],
   "source": [
    "# Phonenumber\n",
    "# emailid\n"
   ]
  },
  {
   "cell_type": "code",
   "execution_count": 4,
   "metadata": {},
   "outputs": [
    {
     "name": "stdout",
     "output_type": "stream",
     "text": [
      "Valid Phonenumber\n"
     ]
    }
   ],
   "source": [
    "# Mobile number validation for static\n",
    "phno=\"+919908380865\"\n",
    "# \"^\" is used for starts \n",
    "# \"$\"  is used for end\n",
    "# \"{} \" is used for exactly the specied number ofoccurrences \n",
    "# \"|\"  is used for or operation\n",
    "# \"[]\" is used for set of characters\n",
    "\n",
    "pattern=\"^[6-9][0-9]{9}$|^[+][9][1][6-9][0-9]{9}$|^[0][6-9][0-9]$\"\n",
    "if re.search(pattern,phno):\n",
    "    print(\"Valid Phonenumber\")\n",
    "else:\n",
    "    print(\"Invalid Phone number\")\n"
   ]
  },
  {
   "cell_type": "code",
   "execution_count": 65,
   "metadata": {},
   "outputs": [
    {
     "name": "stdout",
     "output_type": "stream",
     "text": [
      "enter your phone number :  1234567890\n",
      "Invalid Phone number\n"
     ]
    }
   ],
   "source": [
    "# Mobile number validation for dynamic\n",
    "phno=input(\"enter your phone number :  \")\n",
    "pattern=\"^[6-9][0-9]{9}$|^[+][9][1][6-9][0-9]{9}$|^[0][6-9][0-9]$\"\n",
    "if re.search(pattern,phno):\n",
    "    print(\"Valid Phonenumber\")\n",
    "else:\n",
    "    print(\"Invalid Phone number\")\n"
   ]
  },
  {
   "cell_type": "code",
   "execution_count": null,
   "metadata": {},
   "outputs": [],
   "source": [
    "## Email validation\n",
    "## rules of email validation \n",
    "- 1 to 20 lower case or upper case characters (a-zA-Z) and numbers(0-9),.,_,@\n",
    "- after @ , characters(a-z) 3-8 followed by .\n",
    "- after .symbol .com,.in,.info characters 2-5\n",
    "\n"
   ]
  },
  {
   "cell_type": "code",
   "execution_count": 2,
   "metadata": {},
   "outputs": [
    {
     "name": "stdout",
     "output_type": "stream",
     "text": [
      "enter your emailid:indupriya.p@apssdc.in\n",
      "Valid Email id\n"
     ]
    }
   ],
   "source": [
    "# email verification\n",
    "# indupriya.p@apssdc.in\n",
    "import re\n",
    "email=input(\"enter your emailid:\")\n",
    "pattern=\"^[a-z0-9._][a-z0-9._]{4,30}[@][a-z]{3,8}[.][a-z]{2,8}$\"\n",
    "if re.search(pattern,email):\n",
    "    print(\"Valid Email id\")\n",
    "else:\n",
    "    print(\"invalid Email id\")"
   ]
  },
  {
   "cell_type": "code",
   "execution_count": 1,
   "metadata": {},
   "outputs": [
    {
     "name": "stdout",
     "output_type": "stream",
     "text": [
      "enter your emailid:jeswanthgoud510@gmail.com\n",
      "Valid Email id\n"
     ]
    }
   ],
   "source": [
    "# email verification\n",
    "# indupriya.p@apssdc.in\n",
    "import re\n",
    "email=input(\"enter your emailid:\")\n",
    "pattern=\"^[a-z0-9._][a-z0-9._]{4,30}[@][a-z]{3,8}[.][a-z]{2,8}$\"\n",
    "if re.search(pattern,email):\n",
    "    print(\"Valid Email id\")\n",
    "else:\n",
    "    print(\"invalid Email id\")"
   ]
  },
  {
   "cell_type": "code",
   "execution_count": null,
   "metadata": {},
   "outputs": [],
   "source": []
  }
 ],
 "metadata": {
  "kernelspec": {
   "display_name": "Python 3",
   "language": "python",
   "name": "python3"
  },
  "language_info": {
   "codemirror_mode": {
    "name": "ipython",
    "version": 3
   },
   "file_extension": ".py",
   "mimetype": "text/x-python",
   "name": "python",
   "nbconvert_exporter": "python",
   "pygments_lexer": "ipython3",
   "version": "3.7.3"
  }
 },
 "nbformat": 4,
 "nbformat_minor": 2
}
