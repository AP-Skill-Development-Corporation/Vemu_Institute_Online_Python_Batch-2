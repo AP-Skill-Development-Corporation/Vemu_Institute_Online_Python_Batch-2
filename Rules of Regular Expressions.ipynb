{
 "cells": [
  {
   "cell_type": "markdown",
   "metadata": {},
   "source": [
    "# A regular Expression pattern is can be Combination of some special characters those are:\n",
    "1. Metacharacters:\n",
    "       Metacharacters are characters with a special meaning:\n",
    "2. Special Sequences:\n",
    "    A special sequence is a \\ followed by the characters\n",
    "3. Sets:\n",
    "    A set is a set of characters inside a pair of square brackets [] with a special meaning:"
   ]
  },
  {
   "cell_type": "markdown",
   "metadata": {},
   "source": [
    "# Special Sequences:\n",
    "# Character\t                      Description\n",
    "- \\A\t                       Returns a match if the specified characters are at the beginning of the string.\n",
    "- \\b\t                       Returns a match where the specified characters are at the beginning or at the end of a word\n",
    "                               (the \"r\" in the beginning is making sure that the string is being treated as a \n",
    "\n",
    "- \\B\t                               Returns a match where the specified characters are present, \n",
    "                                    but NOT at the beginning (or at the end) of a word\n",
    "                                    (the \"r\" in the beginning is making sure that the string is being treated as a\n",
    "- \\d\t                                Returns a match where the string contains digits (numbers from 0-9)\n",
    "- \\D\t                                Returns a match where the string DOES NOT contain digits\n",
    "- \\s\t                                 Returns a match where the string contains a white space character\n",
    "- \\S\t                                 Returns a match where the string DOES NOT contain a white space character\n",
    "- \\w\t                                 Returns a match where the string contains any word characters \n",
    "                                     (characters from a to Z, digits from 0-9, and the underscore _ character)\t\"\\w\"\t\n",
    "- \\W\t                                 Returns a match where the string DOES NOT contain any word characters\n",
    "- \\Z\t                                 Returns a match if the specified characters are at the end of the string."
   ]
  },
  {
   "cell_type": "markdown",
   "metadata": {},
   "source": [
    "# Sets\n",
    "- A set is a set of characters inside a pair of square brackets [] with a special meaning:\n",
    "\n",
    "# Set                         Description\n",
    "- [arn]\t                   Returns a match where one of the specified characters (a, r, or n) are present\t\n",
    "- [a-n]\t                   Returns a match for any lower case character, alphabetically between a and n\t\n",
    "- [^arn]\t                   Returns a match for any character EXCEPT a, r, and n\t\n",
    "- [0123]\t                   Returns a match where any of the specified digits (0, 1, 2, or 3) are present\t\n",
    "- [0-9]\t                   Returns a match for any digit between 0 and 9\t\n",
    "- [0-5][0-9]\t               Returns a match for any two-digit numbers from 00 and 59\t\n",
    "- [a-zA-Z]\t               Returns a match for any character alphabetically between a and z, lower case OR upper case\t\n",
    "- [+]\t                       In sets, +, *, ., |, (), $,{} has no special meaning, \n",
    "                           so [+] means: return a match for any + character in the string"
   ]
  },
  {
   "cell_type": "code",
   "execution_count": null,
   "metadata": {},
   "outputs": [],
   "source": []
  }
 ],
 "metadata": {
  "kernelspec": {
   "display_name": "Python 3",
   "language": "python",
   "name": "python3"
  },
  "language_info": {
   "codemirror_mode": {
    "name": "ipython",
    "version": 3
   },
   "file_extension": ".py",
   "mimetype": "text/x-python",
   "name": "python",
   "nbconvert_exporter": "python",
   "pygments_lexer": "ipython3",
   "version": "3.7.3"
  }
 },
 "nbformat": 4,
 "nbformat_minor": 2
}
